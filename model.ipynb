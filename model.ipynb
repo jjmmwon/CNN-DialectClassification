{
  "nbformat": 4,
  "nbformat_minor": 2,
  "metadata": {
    "colab": {
      "name": "model.ipynb",
      "provenance": [],
      "collapsed_sections": []
    },
    "kernelspec": {
      "name": "python3",
      "display_name": "Python 3.7.13 64-bit ('env1_py37': conda)"
    },
    "language_info": {
      "name": "python",
      "version": "3.7.13",
      "mimetype": "text/x-python",
      "codemirror_mode": {
        "name": "ipython",
        "version": 3
      },
      "pygments_lexer": "ipython3",
      "nbconvert_exporter": "python",
      "file_extension": ".py"
    },
    "accelerator": "GPU",
    "interpreter": {
      "hash": "2e21635c90e382193491c6c0b9d844d7654f1925e914d678f60b4feac832f05f"
    }
  },
  "cells": [
    {
      "cell_type": "code",
      "execution_count": 1,
      "source": [
        "import torch\r\n",
        "import torch.nn as nn\r\n",
        "import torch.nn.functional as F\r\n",
        "import torch.optim as optim\r\n",
        "from torch.utils.data import Dataset, DataLoader\r\n",
        "from torch.utils.data.dataset import random_split\r\n",
        "import os\r\n",
        "import re\r\n",
        "from matplotlib import pyplot as plt\r\n",
        "from glob import glob\r\n",
        "import numpy as np\r\n",
        "import pickle\r\n",
        "from tqdm import tqdm\r\n",
        "import time\r\n",
        "from sklearn.metrics import confusion_matrix, ConfusionMatrixDisplay"
      ],
      "outputs": [
        {
          "output_type": "stream",
          "name": "stderr",
          "text": [
            "C:\\Users\\82108\\anaconda3\\envs\\env1_py37\\lib\\site-packages\\tqdm\\auto.py:22: TqdmWarning: IProgress not found. Please update jupyter and ipywidgets. See https://ipywidgets.readthedocs.io/en/stable/user_install.html\n",
            "  from .autonotebook import tqdm as notebook_tqdm\n"
          ]
        }
      ],
      "metadata": {
        "id": "kBVhaUJJ2fef"
      }
    },
    {
      "cell_type": "code",
      "execution_count": 2,
      "source": [
        "index2region={0:'gangwon', 1:'gyeongsang', 2:'jeonla', 3:'chungcheong', 4:'jeju'}\r\n",
        "region2index = {v:k for k,v in index2region.items()}\r\n",
        "region_shortening = ['GW','GS','JL','CC','JJ']\r\n",
        "device = torch.device('cuda:0' if torch.cuda.is_available() else 'cpu')"
      ],
      "outputs": [],
      "metadata": {
        "id": "vnfeGjKBzCQW"
      }
    },
    {
      "cell_type": "code",
      "execution_count": 3,
      "source": [
        "# 데이터 셋 구성 (small dataset)\r\n",
        "dataset_dir = 'c:\\\\Users\\\\82108\\\\anaconda3\\\\envs\\\\env1_py37\\\\CNN_Dialect_Classification3\\\\data\\\\'"
      ],
      "outputs": [],
      "metadata": {
        "id": "SdpZJHsu3iVm"
      }
    },
    {
      "cell_type": "code",
      "execution_count": 4,
      "source": [
        "region_dir = glob(dataset_dir)\r\n",
        "region_dir"
      ],
      "outputs": [
        {
          "output_type": "execute_result",
          "data": {
            "text/plain": [
              "['c:\\\\Users\\\\82108\\\\anaconda3\\\\envs\\\\env1_py37\\\\CNN_Dialect_Classification3\\\\data\\\\']"
            ]
          },
          "metadata": {},
          "execution_count": 4
        }
      ],
      "metadata": {
        "colab": {
          "base_uri": "https://localhost:8080/"
        },
        "id": "vt9xHJeX4eUj",
        "outputId": "90a846b3-f470-49c2-e247-e185b3f3d99d"
      }
    },
    {
      "cell_type": "code",
      "execution_count": 5,
      "source": [
        "for k, v in index2region.items():\r\n",
        "    exec(f\"{v}_dirs = glob(dataset_dir+'*_{v}/*')\")\r\n",
        "jeonla_dirs"
      ],
      "outputs": [
        {
          "output_type": "execute_result",
          "data": {
            "text/plain": [
              "['c:\\\\Users\\\\82108\\\\anaconda3\\\\envs\\\\env1_py37\\\\CNN_Dialect_Classification3\\\\data\\\\preprocessed_jeonla\\\\DJDD20000005',\n",
              " 'c:\\\\Users\\\\82108\\\\anaconda3\\\\envs\\\\env1_py37\\\\CNN_Dialect_Classification3\\\\data\\\\preprocessed_jeonla\\\\DJDD20000006',\n",
              " 'c:\\\\Users\\\\82108\\\\anaconda3\\\\envs\\\\env1_py37\\\\CNN_Dialect_Classification3\\\\data\\\\preprocessed_jeonla\\\\DJDD20000012',\n",
              " 'c:\\\\Users\\\\82108\\\\anaconda3\\\\envs\\\\env1_py37\\\\CNN_Dialect_Classification3\\\\data\\\\preprocessed_jeonla\\\\DJDD20000014',\n",
              " 'c:\\\\Users\\\\82108\\\\anaconda3\\\\envs\\\\env1_py37\\\\CNN_Dialect_Classification3\\\\data\\\\preprocessed_jeonla\\\\DJDD20000015',\n",
              " 'c:\\\\Users\\\\82108\\\\anaconda3\\\\envs\\\\env1_py37\\\\CNN_Dialect_Classification3\\\\data\\\\preprocessed_jeonla\\\\DJDD20000018',\n",
              " 'c:\\\\Users\\\\82108\\\\anaconda3\\\\envs\\\\env1_py37\\\\CNN_Dialect_Classification3\\\\data\\\\preprocessed_jeonla\\\\DJDD20000019',\n",
              " 'c:\\\\Users\\\\82108\\\\anaconda3\\\\envs\\\\env1_py37\\\\CNN_Dialect_Classification3\\\\data\\\\preprocessed_jeonla\\\\DJDD20000024',\n",
              " 'c:\\\\Users\\\\82108\\\\anaconda3\\\\envs\\\\env1_py37\\\\CNN_Dialect_Classification3\\\\data\\\\preprocessed_jeonla\\\\DJDD20000027',\n",
              " 'c:\\\\Users\\\\82108\\\\anaconda3\\\\envs\\\\env1_py37\\\\CNN_Dialect_Classification3\\\\data\\\\preprocessed_jeonla\\\\DJDD20000032']"
            ]
          },
          "metadata": {},
          "execution_count": 5
        }
      ],
      "metadata": {
        "colab": {
          "base_uri": "https://localhost:8080/"
        },
        "id": "fmjloLpw4gjV",
        "outputId": "b675d09d-20ca-41c0-de77-54252344cc60"
      }
    },
    {
      "cell_type": "code",
      "execution_count": 6,
      "source": [
        "def make_tuple_data(dirs, max_num):\r\n",
        "    for i, region_dir in enumerate(dirs):\r\n",
        "        if i>=max_num:break\r\n",
        "        spectro_path = glob(region_dir+'/*_spectro.pickle')[0]\r\n",
        "        mfcc_path = glob(region_dir+'/*_mfcc.pickle')[0]\r\n",
        "        chroma_path = glob(region_dir+'/*_chroma.pickle')[0]\r\n",
        "        \r\n",
        "        with open(spectro_path, \"rb\") as f:\r\n",
        "            spectro = pickle.load(f)\r\n",
        "        with open(mfcc_path, \"rb\") as f:\r\n",
        "            mfcc = pickle.load(f)\r\n",
        "        with open(chroma_path, \"rb\") as f:\r\n",
        "            chroma = pickle.load(f)\r\n",
        "\r\n",
        "        if i == 0:\r\n",
        "            spectro_data = spectro\r\n",
        "            mfcc_data = mfcc\r\n",
        "            chroma_data = chroma\r\n",
        "        else:\r\n",
        "            spectro_data = np.concatenate([spectro_data,spectro], axis=0)\r\n",
        "            mfcc_data = np.concatenate([mfcc_data,mfcc], axis=0)\r\n",
        "            chroma_data = np.concatenate([chroma_data,chroma], axis=0)\r\n",
        "    if max_num ==0:return []\r\n",
        "        \r\n",
        "    r_data = [(s,m,c) for s,m,c in zip(spectro_data,mfcc_data,chroma_data)]\r\n",
        "        \r\n",
        "    return r_data\r\n",
        "\r\n",
        "def make_tuple(max_num=2):\r\n",
        "    jeonla_data = make_tuple_data(jeonla_dirs, max_num)\r\n",
        "    chungcheong_data = make_tuple_data(chungcheong_dirs, max_num)\r\n",
        "    gyeongsang_data = make_tuple_data(gyeongsang_dirs, max_num)\r\n",
        "    jeju_data = make_tuple_data(jeju_dirs, max_num)\r\n",
        "    gangwon_data = make_tuple_data(gangwon_dirs, max_num)\r\n",
        "    return jeonla_data, chungcheong_data, gyeongsang_data, jeju_data, gangwon_data\r\n",
        "\r\n",
        "def print_data(r_data, region):\r\n",
        "    if len(r_data)==0: return\r\n",
        "    print(f\"{region} data num: \", len(r_data))\r\n",
        "    print(f\"{region} tuple size\", len(r_data[0]))\r\n",
        "    print(f\"{region} spec shape\", r_data[0][0].shape)\r\n",
        "\r\n",
        "jeonla_data, chungcheong_data, gyeongsang_data, jeju_data, gangwon_data = make_tuple(1000)\r\n",
        "print_data(jeonla_data, 'jeonla')\r\n",
        "print_data(chungcheong_data, 'chungcheong')\r\n",
        "print_data(gyeongsang_data, 'gyeongsang')\r\n",
        "print_data(jeju_data, 'jeju')\r\n",
        "print_data(gangwon_data, 'gangwon')"
      ],
      "outputs": [
        {
          "output_type": "stream",
          "name": "stdout",
          "text": [
            "jeonla data num:  913\n",
            "jeonla tuple size 3\n",
            "jeonla spec shape (201, 501)\n",
            "chungcheong data num:  1108\n",
            "chungcheong tuple size 3\n",
            "chungcheong spec shape (201, 501)\n",
            "gyeongsang data num:  842\n",
            "gyeongsang tuple size 3\n",
            "gyeongsang spec shape (201, 501)\n",
            "jeju data num:  756\n",
            "jeju tuple size 3\n",
            "jeju spec shape (201, 501)\n",
            "gangwon data num:  1183\n",
            "gangwon tuple size 3\n",
            "gangwon spec shape (201, 501)\n"
          ]
        }
      ],
      "metadata": {
        "id": "AYUO22zQ8LVm"
      }
    },
    {
      "cell_type": "code",
      "execution_count": 7,
      "source": [
        "jeonla_data_l = []\r\n",
        "for data in jeonla_data:\r\n",
        "    y = [0,0,0,0,0]\r\n",
        "    y[region2index['jeonla']] = 1\r\n",
        "    jeonla_data_l.append((data,y))\r\n",
        "\r\n",
        "chungcheong_data_l = []\r\n",
        "for data in chungcheong_data:\r\n",
        "    y = [0,0,0,0,0]\r\n",
        "    y[region2index['chungcheong']] = 1\r\n",
        "    chungcheong_data_l.append((data,y))\r\n",
        "\r\n",
        "gyeongsang_data_l = []\r\n",
        "for data in gyeongsang_data:\r\n",
        "    y = [0,0,0,0,0]\r\n",
        "    y[region2index['gyeongsang']] = 1\r\n",
        "    gyeongsang_data_l.append((data,y))\r\n",
        "\r\n",
        "jeju_data_l = []\r\n",
        "for data in jeju_data:\r\n",
        "    y = [0,0,0,0,0]\r\n",
        "    y[region2index['jeju']] = 1\r\n",
        "    jeju_data_l.append((data,y))\r\n",
        "\r\n",
        "gangwon_data_l = []\r\n",
        "for data in gangwon_data:\r\n",
        "    y = [0,0,0,0,0]\r\n",
        "    y[region2index['gangwon']] = 1\r\n",
        "    gangwon_data_l.append((data,y))"
      ],
      "outputs": [],
      "metadata": {
        "id": "xr6qlZ1YDxnq"
      }
    },
    {
      "cell_type": "code",
      "execution_count": 8,
      "source": [
        "datasumup = np.concatenate([jeonla_data_l[:100], chungcheong_data_l[:100], gangwon_data_l[:100], jeju_data_l[:100], gyeongsang_data_l[:100]], axis=0)"
      ],
      "outputs": [
        {
          "output_type": "stream",
          "name": "stderr",
          "text": [
            "<string>:6: VisibleDeprecationWarning: Creating an ndarray from ragged nested sequences (which is a list-or-tuple of lists-or-tuples-or ndarrays with different lengths or shapes) is deprecated. If you meant to do this, you must specify 'dtype=object' when creating the ndarray.\n"
          ]
        }
      ],
      "metadata": {
        "id": "QzqJhuPUE745"
      }
    },
    {
      "cell_type": "code",
      "execution_count": 9,
      "source": [
        "print(len(jeonla_data))\r\n",
        "print(len(jeonla_data[0]))\r\n",
        "print(len(jeonla_data[0][0]))\r\n",
        "print(jeonla_data[0][0][0].shape)\r\n",
        "print(jeonla_data[0][1])"
      ],
      "outputs": [
        {
          "output_type": "stream",
          "name": "stdout",
          "text": [
            "913\n",
            "3\n",
            "201\n",
            "(501,)\n",
            "[[-8.95968933e+02 -6.80366333e+02 -6.32467224e+02 ... -6.35895569e+02\n",
            "  -7.37488281e+02 -8.95968933e+02]\n",
            " [ 0.00000000e+00  1.05635895e+02  9.15234528e+01 ...  1.30098984e+02\n",
            "   1.36352631e+02  0.00000000e+00]\n",
            " [ 0.00000000e+00  1.99494553e+01  3.10183601e+01 ...  3.71154938e+01\n",
            "   5.05742950e+01  0.00000000e+00]\n",
            " ...\n",
            " [ 0.00000000e+00 -2.89541364e-01 -3.26715827e+00 ... -1.02442813e+00\n",
            "  -2.09881973e+00  0.00000000e+00]\n",
            " [ 0.00000000e+00 -2.61979103e+00 -2.14631224e+00 ... -2.70997930e+00\n",
            "  -2.80001187e+00  0.00000000e+00]\n",
            " [ 0.00000000e+00  3.62961203e-01  3.42702985e+00 ... -1.51727200e-01\n",
            "  -2.38134336e+00  0.00000000e+00]]\n"
          ]
        }
      ],
      "metadata": {
        "id": "R92zKFQGEXcq"
      }
    },
    {
      "cell_type": "code",
      "execution_count": 10,
      "source": [
        "from sklearn.preprocessing import normalize\r\n",
        "class MultiModalDataset(Dataset):\r\n",
        "\r\n",
        "    def __init__(self, data):\r\n",
        "\r\n",
        "        self.data = data\r\n",
        "\r\n",
        "    def __getitem__(self, idx):\r\n",
        "        datas, label = self.data[idx]\r\n",
        "        spec, mfcc, chroma = datas\r\n",
        "        spec, mfcc, chroma = normalize(spec), normalize(mfcc), normalize(chroma)\r\n",
        "        spec, mfcc, chroma = torch.tensor(spec, dtype=torch.float32), torch.tensor(mfcc, dtype=torch.float32), torch.tensor(chroma, dtype=torch.float32)\r\n",
        "        spec, mfcc, chroma = spec.unsqueeze(0), mfcc.unsqueeze(0), chroma.unsqueeze(0)\r\n",
        "        label = torch.tensor(label, dtype=torch.float32)\r\n",
        "\r\n",
        "        data = (spec, mfcc, chroma)\r\n",
        "        return data, label\r\n",
        "    \r\n",
        "    def __len__(self):\r\n",
        "        return len(self.data)"
      ],
      "outputs": [],
      "metadata": {
        "id": "tW3F0sH5BOQG"
      }
    },
    {
      "cell_type": "code",
      "execution_count": 11,
      "source": [
        "dataset = MultiModalDataset(datasumup)\r\n",
        "len(dataset)"
      ],
      "outputs": [
        {
          "output_type": "execute_result",
          "data": {
            "text/plain": [
              "500"
            ]
          },
          "metadata": {},
          "execution_count": 11
        }
      ],
      "metadata": {
        "id": "PGVp0a6QB_aX"
      }
    },
    {
      "cell_type": "code",
      "execution_count": 12,
      "source": [
        "class BasicBlock(nn.Module):\r\n",
        "\r\n",
        "    def __init__(self, in_channels, out_channels, stride=1):\r\n",
        "        super(BasicBlock, self).__init__()\r\n",
        "\r\n",
        "        self.relu = nn.ReLU()\r\n",
        "        self.conv1 = nn.Conv2d(in_channels=in_channels, out_channels=out_channels, kernel_size=(3,3), stride=stride, padding=1, bias=False)\r\n",
        "        self.bn1 = nn.BatchNorm2d(out_channels)\r\n",
        "        self.seq1 = nn.Sequential(self.conv1, self.bn1, self.relu)\r\n",
        "        self.conv2 = nn.Conv2d(in_channels=out_channels, out_channels=out_channels, kernel_size=(3,3), stride=1, padding=1, bias=False)\r\n",
        "        self.bn2 = nn.BatchNorm2d(out_channels)\r\n",
        "        self.seq2 = nn.Sequential(self.conv2, self.bn2)\r\n",
        "        \r\n",
        "        self.down_flag = False\r\n",
        "        if in_channels != out_channels: self.down_flag = True\r\n",
        "\r\n",
        "        self.downsample = nn.Conv2d(in_channels=in_channels, out_channels=out_channels, kernel_size=(1,1), stride=2, padding=0, bias=False)\r\n",
        "    \r\n",
        "    def forward(self, x):\r\n",
        "        #print(x.shape)\r\n",
        "        y = self.seq1(x)\r\n",
        "        #print(y.shape)\r\n",
        "        y = self.seq2(y)\r\n",
        "        #print(y.shape)\r\n",
        "\r\n",
        "        if self.down_flag:\r\n",
        "            x = self.downsample(x)\r\n",
        "        \r\n",
        "        y = self.relu(y)\r\n",
        "        #print(x.shape)\r\n",
        "        #print(y.shape)\r\n",
        "        y = y + x\r\n",
        "\r\n",
        "        return y\r\n",
        "        "
      ],
      "outputs": [],
      "metadata": {
        "id": "mj7PPfwSFgeo"
      }
    },
    {
      "cell_type": "code",
      "execution_count": 13,
      "source": [
        "class ResNet18(nn.Module):\r\n",
        "\r\n",
        "    def __init__(self, in_channels, output_dim=128, model_type='spec'):\r\n",
        "        super(ResNet18, self).__init__()\r\n",
        "\r\n",
        "        self.relu = nn.ReLU()\r\n",
        "\r\n",
        "        self.conv1 = nn.Conv2d(in_channels=in_channels, out_channels=64, kernel_size=(7,7), stride=2, padding=3)\r\n",
        "        self.BN1 = nn.BatchNorm2d(64)\r\n",
        "        self.pool1 = nn.MaxPool2d(kernel_size=(3,3), stride=2, padding=1)\r\n",
        "\r\n",
        "        self.seq1 = nn.Sequential(self.conv1, self.BN1, self.pool1)\r\n",
        "\r\n",
        "        self.seq2 = nn.Sequential(BasicBlock(64,64), BasicBlock(64,64))\r\n",
        "        self.seq3 = nn.Sequential(BasicBlock(64,64), BasicBlock(64, 128, stride=2))\r\n",
        "        self.seq4 = nn.Sequential(BasicBlock(128,128), BasicBlock(128,128))\r\n",
        "        self.seq5 = nn.Sequential(BasicBlock(128,128), BasicBlock(128,256,stride=2))\r\n",
        "\r\n",
        "        self.avg_pool1 = nn.AdaptiveAvgPool2d((1,1))\r\n",
        "        # if model_type=='spec':\r\n",
        "        #     self.fc1 = nn.Linear(256*13*32, output_dim)\r\n",
        "        # elif model_type=='mfcc':\r\n",
        "        #     self.fc1 = nn.Linear(256*7*32, output_dim)\r\n",
        "        # elif model_type=='chroma':\r\n",
        "        #     self.fc1 = nn.Linear(256*1*32, output_dim)\r\n",
        "        self.fc1 = nn.Linear(256, output_dim)\r\n",
        "\r\n",
        "\r\n",
        "        self.lastlayer = nn.Sequential(self.fc1, self.relu)\r\n",
        "\r\n",
        "    def forward(self, x):\r\n",
        "        y = self.seq1(x)\r\n",
        "        y = self.seq2(y)\r\n",
        "        y = self.seq3(y)\r\n",
        "        y = self.seq4(y)\r\n",
        "        y = self.seq5(y)\r\n",
        "        y = self.avg_pool1(y)\r\n",
        "        y = y.view(y.shape[0],-1)\r\n",
        "        y = self.lastlayer(y)\r\n",
        "\r\n",
        "        return y\r\n",
        "\r\n"
      ],
      "outputs": [],
      "metadata": {
        "id": "RuUiC7NlJfyq"
      }
    },
    {
      "cell_type": "code",
      "execution_count": 14,
      "source": [
        "class MultiModalDialectClassifier(nn.Module):\r\n",
        "\r\n",
        "    def __init__(self, hidden_dim=1024, out_dim=5, learning_rate=0.01, best_model_save_path=\"./best_model.pt\"):\r\n",
        "        super(MultiModalDialectClassifier, self).__init__()\r\n",
        "\r\n",
        "        self.best_model_save_path = best_model_save_path\r\n",
        "        self.spec_res = ResNet18(1, model_type='spec')\r\n",
        "        self.mfcc_res = ResNet18(1, model_type='mfcc')\r\n",
        "        self.chroma_res = ResNet18(1, model_type='chroma')\r\n",
        "        \r\n",
        "\r\n",
        "        self.relu = nn.ReLU()\r\n",
        "        self.fc1 = nn.Linear(128*3, 128)\r\n",
        "        self.dropout1 = nn.Dropout(0.2)\r\n",
        "        self.fc2 = nn.Linear(128,out_dim)\r\n",
        "        self.lastlayer = nn.Sequential(self.fc1, self.dropout1, self.relu, self.fc2)\r\n",
        "\r\n",
        "        self.loss_f = nn.CrossEntropyLoss()\r\n",
        "        self.optimizer = optim.AdamW(self.parameters(), lr=learning_rate)\r\n",
        "        #self.softmax = nn.Softmax(dim=1)\r\n",
        "    \r\n",
        "    def forward(self, x):\r\n",
        "        spec_x, mfcc_x, chroma_x = x\r\n",
        "\r\n",
        "        spec_y = self.spec_res(spec_x)\r\n",
        "        mfcc_y = self.mfcc_res(mfcc_x)\r\n",
        "        chroma_y = self.chroma_res(chroma_x)\r\n",
        "\r\n",
        "        y = torch.cat([spec_y, mfcc_y, chroma_y], dim=1)\r\n",
        "        y = y.view(y.shape[0], -1)\r\n",
        "        \r\n",
        "        y = self.lastlayer(y)\r\n",
        "        #y = self.softmax(y)\r\n",
        "        #print(y.shape)\r\n",
        "        return y\r\n",
        "    \r\n",
        "    def train_(self, train_loader, val_loader, learning_rate, epochs, device):\r\n",
        "        self.train_accuracy = []\r\n",
        "        self.train_loss = []\r\n",
        "        self.val_accuracy = []\r\n",
        "        self.val_loss = []\r\n",
        "        self.pred_labels_train = []\r\n",
        "        self.real_labels_train = []\r\n",
        "        self.pred_labels_val = None\r\n",
        "        self.real_labels_val = None\r\n",
        "        best_epoch = -1\r\n",
        "        best_acc = -1 \r\n",
        "        \r\n",
        "        for epoch in range(1, epochs+1):\r\n",
        "            total = 0\r\n",
        "            correct = 0\r\n",
        "            start_time = time.time()\r\n",
        "            epoch_loss = 0.0\r\n",
        "            epoch_acc = 0.0\r\n",
        "            self.train()\r\n",
        "\r\n",
        "            for batch_idx, (batch_data, batch_label) in enumerate(tqdm(train_loader)):\r\n",
        "                \r\n",
        "                spec, mfcc, chroma = batch_data\r\n",
        "                spec, mfcc, chroma = spec.to(device), mfcc.to(device), chroma.to(device)\r\n",
        "                batch_data = (spec, mfcc, chroma)\r\n",
        "                batch_label = batch_label.to(device)\r\n",
        "\r\n",
        "                self.optimizer.zero_grad()\r\n",
        "\r\n",
        "                pred = self.forward(batch_data) # (batch_size, 5)\r\n",
        "                loss = self.loss_f(pred, batch_label)\r\n",
        "                loss.backward()\r\n",
        "                self.optimizer.step()\r\n",
        "\r\n",
        "                epoch_loss += loss.item()\r\n",
        "\r\n",
        "                _, pred_indices = torch.max(pred, axis=1)\r\n",
        "                total += batch_data[0].shape[0]\r\n",
        "                batch_label = torch.max(batch_label, axis=1)[1]\r\n",
        "                correct += pred_indices.eq(batch_label).sum().item()\r\n",
        "                \r\n",
        "                if epoch==epochs: #last epoch\r\n",
        "                    self.pred_labels_train.append(pred_indices)\r\n",
        "                    self.real_labels_train.append(batch_label)\r\n",
        "                #for p, l in zip(pred_indices, batch_label):\r\n",
        "                #    print(f\"predicted: {index2region[p.item()]} real:{index2region[l.item()]}\")\r\n",
        "            \r\n",
        "            end_time = time.time()\r\n",
        "            print(f\"epoch {epoch} time: {end_time-start_time}sec(s).\")\r\n",
        "            \r\n",
        "\r\n",
        "            epoch_loss /= len(train_loader)\r\n",
        "            self.train_loss.append(epoch_loss)\r\n",
        "            epoch_acc = correct / total\r\n",
        "            self.train_accuracy.append(epoch_acc)\r\n",
        "            print(f\"epoch {epoch} train accuracy: {epoch_acc}\")\r\n",
        "            print(f\"epoch {epoch} loss: {epoch_loss}\")  \r\n",
        "\r\n",
        "\r\n",
        "            predicted, labels, val_loss = self.predict(val_loader, device)\r\n",
        "            if epoch==epochs: #last epoch\r\n",
        "                self.pred_labels_val=predicted.cpu().numpy()\r\n",
        "                self.real_labels_val=labels.cpu().numpy()\r\n",
        "            val_acc = predicted.eq(labels).sum().item() / len(predicted)\r\n",
        "            print(f\"epoch {epoch} val accuracy: {val_acc}\")\r\n",
        "            print(f\"epoch {epoch} val loss: {val_loss}\")\r\n",
        "\r\n",
        "            if val_acc > epoch_acc:\r\n",
        "                best_acc = val_acc\r\n",
        "                best_epoch = epoch\r\n",
        "                torch.save(self.state_dict(), self.best_model_save_path)\r\n",
        "            \r\n",
        "            self.val_accuracy.append(val_acc)\r\n",
        "            self.val_loss.append(val_loss)\r\n",
        "        \r\n",
        "        self.pred_labels_train = torch.cat(self.pred_labels_train, dim=0)\r\n",
        "        self.real_labels_train = torch.cat(self.real_labels_train, dim=0)\r\n",
        "        self.pred_labels_train = self.pred_labels_train.cpu().numpy()\r\n",
        "        self.real_labels_train = self.real_labels_train.cpu().numpy()\r\n",
        "            \r\n",
        "            \r\n",
        "            \r\n",
        "        print(\"Finish!\")\r\n",
        "        \r\n",
        "        return best_acc, best_epoch\r\n",
        "            \r\n",
        "    def predict(self, test_loader, device):\r\n",
        "        self.eval()\r\n",
        "        labels = []\r\n",
        "        predicted = []\r\n",
        "        val_loss = 0.0\r\n",
        "        with torch.no_grad():\r\n",
        "            for batch_idx, (batch_data, batch_label) in enumerate(tqdm(test_loader)):\r\n",
        "\r\n",
        "                spec, mfcc, chroma = batch_data\r\n",
        "                spec, mfcc, chroma = spec.to(device), mfcc.to(device), chroma.to(device)\r\n",
        "                batch_data = (spec, mfcc, chroma)\r\n",
        "                batch_label = batch_label.to(device)\r\n",
        "                \r\n",
        "                pred = self.forward(batch_data)\r\n",
        "\r\n",
        "                _, pred_indices = torch.max(pred, axis=1)\r\n",
        "                loss = self.loss_f(pred, batch_label)\r\n",
        "                \r\n",
        "                val_loss += loss.item()\r\n",
        "\r\n",
        "                predicted.append(pred_indices)\r\n",
        "                batch_label = torch.max(batch_label, axis=1)[1]\r\n",
        "                labels.append(batch_label)\r\n",
        "        val_loss /= len(test_loader)\r\n",
        "        predicted = torch.cat(predicted, dim=0)\r\n",
        "        labels = torch.cat(labels, dim=0)\r\n",
        "\r\n",
        "        return predicted, labels, val_loss\r\n",
        "    \r\n",
        "    def plot(self, which):\r\n",
        "        \r\n",
        "        X = [i for i in range(1, len(self.train_accuracy) + 1)]\r\n",
        "        if which=='train_loss':\r\n",
        "            y = self.train_loss\r\n",
        "        elif which=='train_acc':\r\n",
        "            y = self.train_accuracy\r\n",
        "        elif which=='val_acc':\r\n",
        "            y = self.val_accuracy\r\n",
        "        elif which=='val_loss':\r\n",
        "            y = self.val_loss\r\n",
        "        elif which=='confusion_train':\r\n",
        "            ConfusionMatrixDisplay.from_predictions(self.real_labels_train, self.pred_labels_train, display_labels=region_shortening)\r\n",
        "            plt.title('train confusion matrix')\r\n",
        "            plt.savefig(f\"./model_{which}.png\")\r\n",
        "            plt.show()\r\n",
        "            return\r\n",
        "        elif which=='confusion_normalize_train':\r\n",
        "            ConfusionMatrixDisplay.from_predictions(self.real_labels_train, self.pred_labels_train, display_labels=region_shortening, normalize='true')\r\n",
        "            plt.title('train confusion matrix')\r\n",
        "            plt.savefig(f\"./model_{which}.png\")\r\n",
        "            plt.show()    \r\n",
        "            return        \r\n",
        "        elif which=='confusion_val':\r\n",
        "            ConfusionMatrixDisplay.from_predictions(self.real_labels_val, self.pred_labels_val, display_labels=region_shortening)\r\n",
        "            plt.title('val confusion matrix')\r\n",
        "            plt.savefig(f\"./model_{which}.png\")\r\n",
        "            plt.show()\r\n",
        "            return\r\n",
        "        elif which=='confusion_normalize_val':\r\n",
        "            ConfusionMatrixDisplay.from_predictions(self.real_labels_val, self.pred_labels_val, display_labels=region_shortening, normalize='true')\r\n",
        "            plt.title('val confusion matrix')\r\n",
        "            plt.savefig(f\"./model_{which}.png\")\r\n",
        "            plt.show()    \r\n",
        "            return   \r\n",
        "            \r\n",
        "\r\n",
        "        plt.xlabel(\"epoch\")\r\n",
        "        plt.ylabel(which)\r\n",
        "        plt.title(which)\r\n",
        "        plt.plot(X, y, label=\"Train loss\")\r\n",
        "        plt.savefig(f\"./model_{which}.png\")\r\n",
        "        plt.show()\r\n",
        "\r\n",
        "    def getConvLayers(self, resnet):\r\n",
        "        weights = []\r\n",
        "        conv_layers = []\r\n",
        "        for i in range(len(resnet)):\r\n",
        "            if type(resnet[i]) == nn.Conv2d:\r\n",
        "                weights.append(resnet[i].weight)\r\n",
        "                conv_layers.append(resnet[i])\r\n",
        "            elif type(resnet[i]) == nn.Sequential:\r\n",
        "                for basic in resnet[i].children(): # basic block\r\n",
        "                    for in_basic in basic.children():\r\n",
        "                        if type(in_basic) == nn.Conv2d:\r\n",
        "                            weights.append(in_basic.weight)\r\n",
        "                            conv_layers.append(in_basic)\r\n",
        "                        if type(in_basic) == nn.Sequential:\r\n",
        "                            for in_basic_in_sequential in in_basic:\r\n",
        "                                if type(in_basic_in_sequential) == nn.Conv2d:\r\n",
        "                                    weights.append(in_basic_in_sequential.weight)\r\n",
        "                                    conv_layers.append(in_basic_in_sequential)            \r\n",
        "        return weights, conv_layers\r\n",
        "\r\n",
        "    def extractConvLayer(self):\r\n",
        "        children_ = list(self.children())\r\n",
        "        spec_resnet = list(children_[0].children())\r\n",
        "        mfcc_resnet = list(children_[1].children())\r\n",
        "        chroma_resnet = list(children_[2].children()) \r\n",
        "\r\n",
        "        spec_weights, spec_layers = self.getConvLayers(spec_resnet)\r\n",
        "        mfcc_weights, mfcc_layers = self.getConvLayers(mfcc_resnet)\r\n",
        "        chroma_weights, chroma_layers = self.getConvLayers(chroma_resnet)\r\n",
        "\r\n",
        "        self.spec_weights = spec_weights\r\n",
        "        self.spec_layers = spec_layers\r\n",
        "        self.mfcc_weights = mfcc_weights\r\n",
        "        self.mfcc_layers = mfcc_layers\r\n",
        "        self.chroma_weights = chroma_weights\r\n",
        "        self.chroma_layers = chroma_layers\r\n",
        "        \r\n",
        "        return spec_weights, spec_layers, mfcc_weights, mfcc_layers, chroma_weights, chroma_layers\r\n",
        "\r\n",
        "    def plotFilter(self, where='first', data_type='spec', when='before_train'):\r\n",
        "        if data_type == 'spec':\r\n",
        "            filters = self.spec_weights\r\n",
        "        elif data_type == 'mfcc':\r\n",
        "            filters = self.mfcc_weights\r\n",
        "        elif data_type == 'chroma':\r\n",
        "            filters = self.chroma_weights\r\n",
        "        x_len = 0\r\n",
        "        y_len = 0\r\n",
        "        if where=='first': # 64x1x7x7\r\n",
        "            filters = filters[0]\r\n",
        "            filters = filters[:,0,:,:]\r\n",
        "            plt.figure(figsize=(20,17))\r\n",
        "            x_len=8\r\n",
        "            y_len=8\r\n",
        "        elif where=='middle': # 128x64x3x3\r\n",
        "            filters = filters[16]\r\n",
        "            filters = filters[:,0,:,:]\r\n",
        "            plt.figure(figsize=(30,25))\r\n",
        "            x_len= 16\r\n",
        "            y_len= 8\r\n",
        "        elif where=='last': # 256x256x3x3\r\n",
        "            filters = filters[len(filters)-2]\r\n",
        "            filters = filters[:,0,:,:]\r\n",
        "            plt.figure(figsize=(40,32))\r\n",
        "            x_len=16\r\n",
        "            y_len=16\r\n",
        "        for i,filter in enumerate(filters):\r\n",
        "            plt.subplot(x_len, y_len, i+1)\r\n",
        "            plt.imshow(filter.detach().cpu(), cmap='gray')\r\n",
        "            plt.axis('off')\r\n",
        "        plt.savefig(f\"./{data_type}_filter_{where}_{when}.png\")\r\n",
        "        plt.show()\r\n",
        "        plt.close()\r\n",
        "    \r\n",
        "    def plotOriginalImage(self, data):\r\n",
        "        plt.imshow(data[0,:,:])\r\n",
        "        plt.show()\r\n",
        "\r\n",
        "    def plotFeatureMap(self, data, where='first', data_type='spec', when='before_train'):\r\n",
        "        if data_type == 'spec':\r\n",
        "            layers = self.spec_layers\r\n",
        "            x_len = 8\r\n",
        "            y_len = 8\r\n",
        "        elif data_type == 'mfcc':\r\n",
        "            layers = self.mfcc_layers\r\n",
        "            x_len = 16\r\n",
        "            y_len = 4\r\n",
        "        elif data_type == 'chroma':\r\n",
        "            layers = self.chroma_layers\r\n",
        "            x_len = 32\r\n",
        "            y_len = 2\r\n",
        "\r\n",
        "        if where=='first':\r\n",
        "            plt.figure(figsize=(20,17))\r\n",
        "            layer = layers[0]\r\n",
        "        elif where=='middle':\r\n",
        "            pass\r\n",
        "        elif where=='last':\r\n",
        "            pass\r\n",
        "        results = layer(data) # 64x?x251\r\n",
        "        for i, result in enumerate(results):\r\n",
        "            plt.subplot(x_len, y_len, i+1)\r\n",
        "            plt.imshow(result.detach().cpu())\r\n",
        "            plt.axis('off')\r\n",
        "        plt.savefig(f\"./{data_type}_feature_map_{where}_{when}.png\")\r\n",
        "        plt.show()\r\n",
        "        plt.close()      \r\n",
        "\r\n",
        "        \r\n",
        "        \r\n",
        "        "
      ],
      "outputs": [],
      "metadata": {
        "id": "2bHMnPJIY87t"
      }
    },
    {
      "cell_type": "code",
      "execution_count": 15,
      "source": [
        "def Kfold_train(dataset, learning_rate, epochs, device):\r\n",
        "        hparams = []\r\n",
        "        for i in range(len(learning_rate)):\r\n",
        "            for j in range(len(epochs)):\r\n",
        "                hparams.append((learning_rate[i], epochs[j]))\r\n",
        "        print(hparams)\r\n",
        "\r\n",
        "        train_size = int(len(dataset)*0.8)\r\n",
        "        validation_size = len(dataset) - train_size\r\n",
        "\r\n",
        "        train_dataset_l = []\r\n",
        "        validation_dataset_l = []\r\n",
        "\r\n",
        "        for i in range(5):\r\n",
        "            train_dataset, validation_dataset = random_split(dataset, [train_size, validation_size])\r\n",
        "            train_dataset_l.append(train_dataset)\r\n",
        "            validation_dataset_l.append(validation_dataset)\r\n",
        "\r\n",
        "        res = []\r\n",
        "        for i in range(len(hparams)):\r\n",
        "            lr = hparams[i][0]\r\n",
        "            e = hparams[i][1]\r\n",
        "            print(f\"Learning rate : {lr}, Epochs : {e}\")\r\n",
        "\r\n",
        "            last_val_acc = []\r\n",
        "            model = MultiModalDialectClassifier().to(device)\r\n",
        "            for j in range(5):\r\n",
        "                print(f\"#{j+1} validation\")\r\n",
        "                train_loader = DataLoader(train_dataset_l[j], batch_size=32, shuffle=True)\r\n",
        "                validation_loader = DataLoader(validation_dataset_l[j], batch_size=32, shuffle=True)\r\n",
        "\r\n",
        "                model.train_(train_loader, validation_loader, lr, e, device)\r\n",
        "                last_val_acc.append(model.val_accuracy[-1])\r\n",
        "                model.plot('train_acc')\r\n",
        "                model.plot('val_acc')\r\n",
        "\r\n",
        "            res.append((np.array(last_val_acc)).mean())\r\n",
        "        idx = res.index(max(res))\r\n",
        "        \r\n",
        "        best_lr, best_ep = hparams[idx]\r\n",
        "\r\n",
        "        print(f\"Best Learning Rate : {best_lr}, Best Epoch : {best_ep}\")\r\n",
        "\r\n",
        "        return best_lr, best_ep"
      ],
      "outputs": [],
      "metadata": {}
    },
    {
      "cell_type": "code",
      "execution_count": 16,
      "source": [
        "lr = [0.001, 0.0005]\r\n",
        "ep = [2]\r\n",
        "\r\n",
        "best_lr, best_ep = Kfold_train(dataset, learning_rate= lr, epochs= ep, device = device)"
      ],
      "outputs": [
        {
          "output_type": "stream",
          "name": "stdout",
          "text": [
            "[(0.001, 2), (0.0005, 2)]\n",
            "Learning rate : 0.001, Epochs : 2\n",
            "#1 validation\n"
          ]
        },
        {
          "output_type": "stream",
          "name": "stderr",
          "text": [
            "100%|██████████| 13/13 [00:15<00:00,  1.16s/it]\n"
          ]
        },
        {
          "output_type": "stream",
          "name": "stdout",
          "text": [
            "epoch 1 time: 15.040756225585938sec(s).\n",
            "epoch 1 train accuracy: 0.3575\n",
            "epoch 1 loss: 2.707323441138634\n"
          ]
        },
        {
          "output_type": "stream",
          "name": "stderr",
          "text": [
            "100%|██████████| 4/4 [00:01<00:00,  3.81it/s]\n"
          ]
        },
        {
          "output_type": "stream",
          "name": "stdout",
          "text": [
            "epoch 1 val accuracy: 0.25\n",
            "epoch 1 val loss: 32.0175666809082\n"
          ]
        },
        {
          "output_type": "stream",
          "name": "stderr",
          "text": [
            "100%|██████████| 13/13 [00:13<00:00,  1.05s/it]\n"
          ]
        },
        {
          "output_type": "stream",
          "name": "stdout",
          "text": [
            "epoch 2 time: 13.598219156265259sec(s).\n",
            "epoch 2 train accuracy: 0.7\n",
            "epoch 2 loss: 0.8264658313531142\n"
          ]
        },
        {
          "output_type": "stream",
          "name": "stderr",
          "text": [
            "100%|██████████| 4/4 [00:01<00:00,  2.52it/s]\n"
          ]
        },
        {
          "output_type": "stream",
          "name": "stdout",
          "text": [
            "epoch 2 val accuracy: 0.25\n",
            "epoch 2 val loss: 113.39416122436523\n",
            "Finish!\n"
          ]
        },
        {
          "output_type": "display_data",
          "data": {
            "image/png": "[encoded data removed]",
            "text/plain": [
              "<Figure size 432x288 with 1 Axes>"
            ]
          },
          "metadata": {
            "needs_background": "light"
          }
        },
        {
          "output_type": "display_data",
          "data": {
            "image/png": "[encoded data removed]",
            "text/plain": [
              "<Figure size 432x288 with 1 Axes>"
            ]
          },
          "metadata": {
            "needs_background": "light"
          }
        },
        {
          "output_type": "stream",
          "name": "stdout",
          "text": [
            "#2 validation\n"
          ]
        },
        {
          "output_type": "stream",
          "name": "stderr",
          "text": [
            "100%|██████████| 13/13 [00:07<00:00,  1.71it/s]\n"
          ]
        },
        {
          "output_type": "stream",
          "name": "stdout",
          "text": [
            "epoch 1 time: 7.591002702713013sec(s).\n",
            "epoch 1 train accuracy: 0.7225\n",
            "epoch 1 loss: 0.9469552590296819\n"
          ]
        },
        {
          "output_type": "stream",
          "name": "stderr",
          "text": [
            "100%|██████████| 4/4 [00:00<00:00,  7.14it/s]\n"
          ]
        },
        {
          "output_type": "stream",
          "name": "stdout",
          "text": [
            "epoch 1 val accuracy: 0.22\n",
            "epoch 1 val loss: 78.40437698364258\n"
          ]
        },
        {
          "output_type": "stream",
          "name": "stderr",
          "text": [
            "100%|██████████| 13/13 [00:06<00:00,  2.02it/s]\n"
          ]
        },
        {
          "output_type": "stream",
          "name": "stdout",
          "text": [
            "epoch 2 time: 6.427014112472534sec(s).\n",
            "epoch 2 train accuracy: 0.8225\n",
            "epoch 2 loss: 0.5174492712204273\n"
          ]
        },
        {
          "output_type": "stream",
          "name": "stderr",
          "text": [
            "100%|██████████| 4/4 [00:00<00:00,  7.26it/s]"
          ]
        },
        {
          "output_type": "stream",
          "name": "stdout",
          "text": [
            "epoch 2 val accuracy: 0.19\n",
            "epoch 2 val loss: 6.671702265739441\n",
            "Finish!\n"
          ]
        },
        {
          "output_type": "stream",
          "name": "stderr",
          "text": [
            "\n"
          ]
        },
        {
          "output_type": "display_data",
          "data": {
            "image/png": "[encoded data removed]",
            "text/plain": [
              "<Figure size 432x288 with 1 Axes>"
            ]
          },
          "metadata": {
            "needs_background": "light"
          }
        },
        {
          "output_type": "display_data",
          "data": {
            "image/png": "[encoded data removed]",
            "text/plain": [
              "<Figure size 432x288 with 1 Axes>"
            ]
          },
          "metadata": {
            "needs_background": "light"
          }
        },
        {
          "output_type": "stream",
          "name": "stdout",
          "text": [
            "#3 validation\n"
          ]
        },
        {
          "output_type": "stream",
          "name": "stderr",
          "text": [
            "100%|██████████| 13/13 [00:06<00:00,  2.03it/s]\n"
          ]
        },
        {
          "output_type": "stream",
          "name": "stdout",
          "text": [
            "epoch 1 time: 6.4009716510772705sec(s).\n",
            "epoch 1 train accuracy: 0.79\n",
            "epoch 1 loss: 0.6299423071054312\n"
          ]
        },
        {
          "output_type": "stream",
          "name": "stderr",
          "text": [
            "100%|██████████| 4/4 [00:00<00:00,  7.25it/s]\n"
          ]
        },
        {
          "output_type": "stream",
          "name": "stdout",
          "text": [
            "epoch 1 val accuracy: 0.15\n",
            "epoch 1 val loss: 11.457546949386597\n"
          ]
        },
        {
          "output_type": "stream",
          "name": "stderr",
          "text": [
            "100%|██████████| 13/13 [00:06<00:00,  2.07it/s]\n"
          ]
        },
        {
          "output_type": "stream",
          "name": "stdout",
          "text": [
            "epoch 2 time: 6.294212818145752sec(s).\n",
            "epoch 2 train accuracy: 0.885\n",
            "epoch 2 loss: 0.30811999623592085\n"
          ]
        },
        {
          "output_type": "stream",
          "name": "stderr",
          "text": [
            "100%|██████████| 4/4 [00:00<00:00,  7.23it/s]"
          ]
        },
        {
          "output_type": "stream",
          "name": "stdout",
          "text": [
            "epoch 2 val accuracy: 0.31\n",
            "epoch 2 val loss: 10.658338189125061\n",
            "Finish!\n"
          ]
        },
        {
          "output_type": "stream",
          "name": "stderr",
          "text": [
            "\n"
          ]
        },
        {
          "output_type": "display_data",
          "data": {
            "image/png": "[encoded data removed]",
            "text/plain": [
              "<Figure size 432x288 with 1 Axes>"
            ]
          },
          "metadata": {
            "needs_background": "light"
          }
        },
        {
          "output_type": "display_data",
          "data": {
            "image/png": "[encoded data removed]",
            "text/plain": [
              "<Figure size 432x288 with 1 Axes>"
            ]
          },
          "metadata": {
            "needs_background": "light"
          }
        },
        {
          "output_type": "stream",
          "name": "stdout",
          "text": [
            "#4 validation\n"
          ]
        },
        {
          "output_type": "stream",
          "name": "stderr",
          "text": [
            "100%|██████████| 13/13 [00:06<00:00,  1.95it/s]\n"
          ]
        },
        {
          "output_type": "stream",
          "name": "stdout",
          "text": [
            "epoch 1 time: 6.667465448379517sec(s).\n",
            "epoch 1 train accuracy: 0.71\n",
            "epoch 1 loss: 0.9873201640752646\n"
          ]
        },
        {
          "output_type": "stream",
          "name": "stderr",
          "text": [
            "100%|██████████| 4/4 [00:00<00:00,  7.13it/s]\n"
          ]
        },
        {
          "output_type": "stream",
          "name": "stdout",
          "text": [
            "epoch 1 val accuracy: 0.69\n",
            "epoch 1 val loss: 0.9841198474168777\n"
          ]
        },
        {
          "output_type": "stream",
          "name": "stderr",
          "text": [
            "100%|██████████| 13/13 [00:07<00:00,  1.85it/s]\n"
          ]
        },
        {
          "output_type": "stream",
          "name": "stdout",
          "text": [
            "epoch 2 time: 7.015717029571533sec(s).\n",
            "epoch 2 train accuracy: 0.7475\n",
            "epoch 2 loss: 0.8395282626152039\n"
          ]
        },
        {
          "output_type": "stream",
          "name": "stderr",
          "text": [
            "100%|██████████| 4/4 [00:00<00:00,  7.42it/s]"
          ]
        },
        {
          "output_type": "stream",
          "name": "stdout",
          "text": [
            "epoch 2 val accuracy: 0.54\n",
            "epoch 2 val loss: 3.114174008369446\n",
            "Finish!\n"
          ]
        },
        {
          "output_type": "stream",
          "name": "stderr",
          "text": [
            "\n"
          ]
        },
        {
          "output_type": "display_data",
          "data": {
            "image/png": "[encoded data removed]",
            "text/plain": [
              "<Figure size 432x288 with 1 Axes>"
            ]
          },
          "metadata": {
            "needs_background": "light"
          }
        },
        {
          "output_type": "display_data",
          "data": {
            "image/png": "[encoded data removed]",
            "text/plain": [
              "<Figure size 432x288 with 1 Axes>"
            ]
          },
          "metadata": {
            "needs_background": "light"
          }
        },
        {
          "output_type": "stream",
          "name": "stdout",
          "text": [
            "#5 validation\n"
          ]
        },
        {
          "output_type": "stream",
          "name": "stderr",
          "text": [
            "100%|██████████| 13/13 [00:08<00:00,  1.59it/s]\n"
          ]
        },
        {
          "output_type": "stream",
          "name": "stdout",
          "text": [
            "epoch 1 time: 8.179928302764893sec(s).\n",
            "epoch 1 train accuracy: 0.6375\n",
            "epoch 1 loss: 1.3242182273131151\n"
          ]
        },
        {
          "output_type": "stream",
          "name": "stderr",
          "text": [
            "100%|██████████| 4/4 [00:00<00:00,  6.60it/s]\n"
          ]
        },
        {
          "output_type": "stream",
          "name": "stdout",
          "text": [
            "epoch 1 val accuracy: 0.36\n",
            "epoch 1 val loss: 6.726686716079712\n"
          ]
        },
        {
          "output_type": "stream",
          "name": "stderr",
          "text": [
            "100%|██████████| 13/13 [00:08<00:00,  1.48it/s]\n"
          ]
        },
        {
          "output_type": "stream",
          "name": "stdout",
          "text": [
            "epoch 2 time: 8.797998666763306sec(s).\n",
            "epoch 2 train accuracy: 0.6475\n",
            "epoch 2 loss: 0.8865764462030851\n"
          ]
        },
        {
          "output_type": "stream",
          "name": "stderr",
          "text": [
            "100%|██████████| 4/4 [00:00<00:00,  6.40it/s]"
          ]
        },
        {
          "output_type": "stream",
          "name": "stdout",
          "text": [
            "epoch 2 val accuracy: 0.61\n",
            "epoch 2 val loss: 0.8777697533369064\n",
            "Finish!\n"
          ]
        },
        {
          "output_type": "stream",
          "name": "stderr",
          "text": [
            "\n"
          ]
        },
        {
          "output_type": "display_data",
          "data": {
            "image/png": "[encoded data removed]",
            "text/plain": [
              "<Figure size 432x288 with 1 Axes>"
            ]
          },
          "metadata": {
            "needs_background": "light"
          }
        },
        {
          "output_type": "display_data",
          "data": {
            "image/png": "[encoded data removed]",
            "text/plain": [
              "<Figure size 432x288 with 1 Axes>"
            ]
          },
          "metadata": {
            "needs_background": "light"
          }
        },
        {
          "output_type": "stream",
          "name": "stdout",
          "text": [
            "Learning rate : 0.0005, Epochs : 2\n",
            "#1 validation\n"
          ]
        },
        {
          "output_type": "stream",
          "name": "stderr",
          "text": [
            "100%|██████████| 13/13 [00:06<00:00,  1.93it/s]\n"
          ]
        },
        {
          "output_type": "stream",
          "name": "stdout",
          "text": [
            "epoch 1 time: 6.7319722175598145sec(s).\n",
            "epoch 1 train accuracy: 0.2875\n",
            "epoch 1 loss: 1.9518976670045118\n"
          ]
        },
        {
          "output_type": "stream",
          "name": "stderr",
          "text": [
            "100%|██████████| 4/4 [00:00<00:00,  6.80it/s]\n"
          ]
        },
        {
          "output_type": "stream",
          "name": "stdout",
          "text": [
            "epoch 1 val accuracy: 0.25\n",
            "epoch 1 val loss: 126.40869140625\n"
          ]
        },
        {
          "output_type": "stream",
          "name": "stderr",
          "text": [
            "100%|██████████| 13/13 [00:06<00:00,  1.88it/s]\n"
          ]
        },
        {
          "output_type": "stream",
          "name": "stdout",
          "text": [
            "epoch 2 time: 6.922000169754028sec(s).\n",
            "epoch 2 train accuracy: 0.6275\n",
            "epoch 2 loss: 0.9919008750181931\n"
          ]
        },
        {
          "output_type": "stream",
          "name": "stderr",
          "text": [
            "100%|██████████| 4/4 [00:00<00:00,  5.29it/s]"
          ]
        },
        {
          "output_type": "stream",
          "name": "stdout",
          "text": [
            "epoch 2 val accuracy: 0.25\n",
            "epoch 2 val loss: 6.772632598876953\n",
            "Finish!\n"
          ]
        },
        {
          "output_type": "stream",
          "name": "stderr",
          "text": [
            "\n"
          ]
        },
        {
          "output_type": "display_data",
          "data": {
            "image/png": "[encoded data removed]",
            "text/plain": [
              "<Figure size 432x288 with 1 Axes>"
            ]
          },
          "metadata": {
            "needs_background": "light"
          }
        },
        {
          "output_type": "display_data",
          "data": {
            "image/png": "[encoded data removed]",
            "text/plain": [
              "<Figure size 432x288 with 1 Axes>"
            ]
          },
          "metadata": {
            "needs_background": "light"
          }
        },
        {
          "output_type": "stream",
          "name": "stdout",
          "text": [
            "#2 validation\n"
          ]
        },
        {
          "output_type": "stream",
          "name": "stderr",
          "text": [
            "100%|██████████| 13/13 [00:07<00:00,  1.79it/s]\n"
          ]
        },
        {
          "output_type": "stream",
          "name": "stdout",
          "text": [
            "epoch 1 time: 7.276132345199585sec(s).\n",
            "epoch 1 train accuracy: 0.6375\n",
            "epoch 1 loss: 1.0125599136719337\n"
          ]
        },
        {
          "output_type": "stream",
          "name": "stderr",
          "text": [
            "100%|██████████| 4/4 [00:00<00:00,  4.91it/s]\n"
          ]
        },
        {
          "output_type": "stream",
          "name": "stdout",
          "text": [
            "epoch 1 val accuracy: 0.2\n",
            "epoch 1 val loss: 9.21447765827179\n"
          ]
        },
        {
          "output_type": "stream",
          "name": "stderr",
          "text": [
            "100%|██████████| 13/13 [00:06<00:00,  2.07it/s]\n"
          ]
        },
        {
          "output_type": "stream",
          "name": "stdout",
          "text": [
            "epoch 2 time: 6.289124488830566sec(s).\n",
            "epoch 2 train accuracy: 0.73\n",
            "epoch 2 loss: 0.7237436312895554\n"
          ]
        },
        {
          "output_type": "stream",
          "name": "stderr",
          "text": [
            "100%|██████████| 4/4 [00:00<00:00,  7.22it/s]"
          ]
        },
        {
          "output_type": "stream",
          "name": "stdout",
          "text": [
            "epoch 2 val accuracy: 0.2\n",
            "epoch 2 val loss: 9.06060528755188\n",
            "Finish!\n"
          ]
        },
        {
          "output_type": "stream",
          "name": "stderr",
          "text": [
            "\n"
          ]
        },
        {
          "output_type": "display_data",
          "data": {
            "image/png": "[encoded data removed]",
            "text/plain": [
              "<Figure size 432x288 with 1 Axes>"
            ]
          },
          "metadata": {
            "needs_background": "light"
          }
        },
        {
          "output_type": "display_data",
          "data": {
            "image/png": "[encoded data removed]",
            "text/plain": [
              "<Figure size 432x288 with 1 Axes>"
            ]
          },
          "metadata": {
            "needs_background": "light"
          }
        },
        {
          "output_type": "stream",
          "name": "stdout",
          "text": [
            "#3 validation\n"
          ]
        },
        {
          "output_type": "stream",
          "name": "stderr",
          "text": [
            "100%|██████████| 13/13 [00:06<00:00,  1.90it/s]\n"
          ]
        },
        {
          "output_type": "stream",
          "name": "stdout",
          "text": [
            "epoch 1 time: 6.830641508102417sec(s).\n",
            "epoch 1 train accuracy: 0.805\n",
            "epoch 1 loss: 0.6003904732374045\n"
          ]
        },
        {
          "output_type": "stream",
          "name": "stderr",
          "text": [
            "100%|██████████| 4/4 [00:00<00:00,  7.18it/s]\n"
          ]
        },
        {
          "output_type": "stream",
          "name": "stdout",
          "text": [
            "epoch 1 val accuracy: 0.48\n",
            "epoch 1 val loss: 3.6189783811569214\n"
          ]
        },
        {
          "output_type": "stream",
          "name": "stderr",
          "text": [
            "100%|██████████| 13/13 [00:06<00:00,  1.99it/s]\n"
          ]
        },
        {
          "output_type": "stream",
          "name": "stdout",
          "text": [
            "epoch 2 time: 6.546962738037109sec(s).\n",
            "epoch 2 train accuracy: 0.735\n",
            "epoch 2 loss: 0.7697301598695608\n"
          ]
        },
        {
          "output_type": "stream",
          "name": "stderr",
          "text": [
            "100%|██████████| 4/4 [00:00<00:00,  6.84it/s]"
          ]
        },
        {
          "output_type": "stream",
          "name": "stdout",
          "text": [
            "epoch 2 val accuracy: 0.43\n",
            "epoch 2 val loss: 2.8123152405023575\n",
            "Finish!\n"
          ]
        },
        {
          "output_type": "stream",
          "name": "stderr",
          "text": [
            "\n"
          ]
        },
        {
          "output_type": "display_data",
          "data": {
            "image/png": "[encoded data removed]",
            "text/plain": [
              "<Figure size 432x288 with 1 Axes>"
            ]
          },
          "metadata": {
            "needs_background": "light"
          }
        },
        {
          "output_type": "display_data",
          "data": {
            "image/png": "[encoded data removed]",
            "text/plain": [
              "<Figure size 432x288 with 1 Axes>"
            ]
          },
          "metadata": {
            "needs_background": "light"
          }
        },
        {
          "output_type": "stream",
          "name": "stdout",
          "text": [
            "#4 validation\n"
          ]
        },
        {
          "output_type": "stream",
          "name": "stderr",
          "text": [
            "100%|██████████| 13/13 [00:06<00:00,  1.90it/s]\n"
          ]
        },
        {
          "output_type": "stream",
          "name": "stdout",
          "text": [
            "epoch 1 time: 6.860518455505371sec(s).\n",
            "epoch 1 train accuracy: 0.7375\n",
            "epoch 1 loss: 0.7408263706243955\n"
          ]
        },
        {
          "output_type": "stream",
          "name": "stderr",
          "text": [
            "100%|██████████| 4/4 [00:00<00:00,  4.69it/s]\n"
          ]
        },
        {
          "output_type": "stream",
          "name": "stdout",
          "text": [
            "epoch 1 val accuracy: 0.78\n",
            "epoch 1 val loss: 0.5966307148337364\n"
          ]
        },
        {
          "output_type": "stream",
          "name": "stderr",
          "text": [
            "100%|██████████| 13/13 [00:06<00:00,  2.07it/s]\n"
          ]
        },
        {
          "output_type": "stream",
          "name": "stdout",
          "text": [
            "epoch 2 time: 6.27503776550293sec(s).\n",
            "epoch 2 train accuracy: 0.8\n",
            "epoch 2 loss: 0.5857735276222229\n"
          ]
        },
        {
          "output_type": "stream",
          "name": "stderr",
          "text": [
            "100%|██████████| 4/4 [00:00<00:00,  7.18it/s]"
          ]
        },
        {
          "output_type": "stream",
          "name": "stdout",
          "text": [
            "epoch 2 val accuracy: 0.27\n",
            "epoch 2 val loss: 9.257462739944458\n",
            "Finish!\n"
          ]
        },
        {
          "output_type": "stream",
          "name": "stderr",
          "text": [
            "\n"
          ]
        },
        {
          "output_type": "display_data",
          "data": {
            "image/png": "[encoded data removed]",
            "text/plain": [
              "<Figure size 432x288 with 1 Axes>"
            ]
          },
          "metadata": {
            "needs_background": "light"
          }
        },
        {
          "output_type": "display_data",
          "data": {
            "image/png": "[encoded data removed]",
            "text/plain": [
              "<Figure size 432x288 with 1 Axes>"
            ]
          },
          "metadata": {
            "needs_background": "light"
          }
        },
        {
          "output_type": "stream",
          "name": "stdout",
          "text": [
            "#5 validation\n"
          ]
        },
        {
          "output_type": "stream",
          "name": "stderr",
          "text": [
            "100%|██████████| 13/13 [00:06<00:00,  1.87it/s]\n"
          ]
        },
        {
          "output_type": "stream",
          "name": "stdout",
          "text": [
            "epoch 1 time: 6.962146997451782sec(s).\n",
            "epoch 1 train accuracy: 0.805\n",
            "epoch 1 loss: 0.6128893059033614\n"
          ]
        },
        {
          "output_type": "stream",
          "name": "stderr",
          "text": [
            "100%|██████████| 4/4 [00:01<00:00,  3.92it/s]\n"
          ]
        },
        {
          "output_type": "stream",
          "name": "stdout",
          "text": [
            "epoch 1 val accuracy: 0.71\n",
            "epoch 1 val loss: 1.2361014038324356\n"
          ]
        },
        {
          "output_type": "stream",
          "name": "stderr",
          "text": [
            "100%|██████████| 13/13 [00:06<00:00,  1.95it/s]\n"
          ]
        },
        {
          "output_type": "stream",
          "name": "stdout",
          "text": [
            "epoch 2 time: 6.656002044677734sec(s).\n",
            "epoch 2 train accuracy: 0.855\n",
            "epoch 2 loss: 0.47697420303638166\n"
          ]
        },
        {
          "output_type": "stream",
          "name": "stderr",
          "text": [
            "100%|██████████| 4/4 [00:00<00:00,  7.22it/s]"
          ]
        },
        {
          "output_type": "stream",
          "name": "stdout",
          "text": [
            "epoch 2 val accuracy: 0.82\n",
            "epoch 2 val loss: 0.4114319644868374\n",
            "Finish!\n"
          ]
        },
        {
          "output_type": "stream",
          "name": "stderr",
          "text": [
            "\n"
          ]
        },
        {
          "output_type": "display_data",
          "data": {
            "image/png": "[encoded data removed]",
            "text/plain": [
              "<Figure size 432x288 with 1 Axes>"
            ]
          },
          "metadata": {
            "needs_background": "light"
          }
        },
        {
          "output_type": "display_data",
          "data": {
            "image/png": "[encoded data removed]",
            "text/plain": [
              "<Figure size 432x288 with 1 Axes>"
            ]
          },
          "metadata": {
            "needs_background": "light"
          }
        },
        {
          "output_type": "stream",
          "name": "stdout",
          "text": [
            "Best Learning Rate : 0.0005, Best Epoch : 2\n"
          ]
        }
      ],
      "metadata": {}
    },
    {
      "cell_type": "code",
      "execution_count": 17,
      "source": [
        "print(best_lr, best_ep)"
      ],
      "outputs": [
        {
          "output_type": "stream",
          "name": "stdout",
          "text": [
            "0.0005 2\n"
          ]
        }
      ],
      "metadata": {}
    }
  ]
}